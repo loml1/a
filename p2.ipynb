{
 "cells": [
  {
   "cell_type": "code",
   "execution_count": 2,
   "id": "bc24f7e0-ba7c-415c-a294-71c78f39d0f8",
   "metadata": {},
   "outputs": [
    {
     "name": "stdout",
     "output_type": "stream",
     "text": [
      "Updated Cost :\n",
      "D : {'OR': ['J']} >>> {'J': 1}\n",
      "C : {'OR': ['G'], 'AND': ['H', 'I']} >>> {'H AND I': 2, 'G': 4}\n",
      "B : {'OR': ['E', 'F']} >>> {'E OR F': 8}\n",
      "A : {'OR': ['B'], 'AND': ['C', 'D']} >>> {'C AND D': 5, 'B': 9}\n",
      "***************************************************************************\n",
      "Shortest Path :\n",
      " A<--(C AND D) [C<--(H AND I) [H + I] + D<--J]\n"
     ]
    }
   ],
   "source": [
    "# Cost to find the AND and OR path\n",
    "def Cost(H, condition, weight = 1):\n",
    "\tcost = {}\n",
    "\tif 'AND' in condition:\n",
    "\t\tAND_nodes = condition['AND']\n",
    "\t\tPath_A = ' AND '.join(AND_nodes)\n",
    "\t\tPathA = sum(H[node]+weight for node in AND_nodes)\n",
    "\t\tcost[Path_A] = PathA\n",
    "\n",
    "\tif 'OR' in condition:\n",
    "\t\tOR_nodes = condition['OR']\n",
    "\t\tPath_B =' OR '.join(OR_nodes)\n",
    "\t\tPathB = min(H[node]+weight for node in OR_nodes)\n",
    "\t\tcost[Path_B] = PathB\n",
    "\treturn cost\n",
    "\n",
    "# Update the cost\n",
    "def update_cost(H, Conditions, weight=1):\n",
    "\tMain_nodes = list(Conditions.keys())\n",
    "\tMain_nodes.reverse()\n",
    "\tleast_cost= {}\n",
    "\tfor key in Main_nodes:\n",
    "\t\tcondition = Conditions[key]\n",
    "\t\tprint(key,':', Conditions[key],'>>>', Cost(H, condition, weight))\n",
    "\t\tc = Cost(H, condition, weight)\n",
    "\t\tH[key] = min(c.values())\n",
    "\t\tleast_cost[key] = Cost(H, condition, weight)\t\t\n",
    "\treturn least_cost\n",
    "\n",
    "# Print the shortest path\n",
    "def shortest_path(Start,Updated_cost, H):\n",
    "\tPath = Start\n",
    "\tif Start in Updated_cost.keys():\n",
    "\t\tMin_cost = min(Updated_cost[Start].values())\n",
    "\t\tkey = list(Updated_cost[Start].keys())\n",
    "\t\tvalues = list(Updated_cost[Start].values())\n",
    "\t\tIndex = values.index(Min_cost)\n",
    "\t\t\n",
    "\t\t# FIND MINIMIMUM PATH KEY\n",
    "\t\tNext = key[Index].split()\n",
    "\t\t# ADD TO PATH FOR OR PATH\n",
    "\t\tif len(Next) == 1:\n",
    "\t\t\tStart =Next[0]\n",
    "\t\t\tPath += '<--' +shortest_path(Start, Updated_cost, H)\n",
    "\t\telse:\n",
    "\t\t\tPath +='<--('+key[Index]+') '\n",
    "\n",
    "\t\t\tStart = Next[0]\n",
    "\t\t\tPath += '[' +shortest_path(Start, Updated_cost, H) + ' + '\n",
    "\n",
    "\t\t\tStart = Next[-1]\n",
    "\t\t\tPath += shortest_path(Start, Updated_cost, H) + ']'\n",
    "\n",
    "\treturn Path\n",
    "\t\t\n",
    "\t\t\n",
    "\n",
    "H = {'A': -1, 'B': 5, 'C': 2, 'D': 4, 'E': 7, 'F': 9, 'G': 3, 'H': 0, 'I':0, 'J':0}\n",
    "\n",
    "Conditions = {\n",
    "'A': {'OR': ['B'], 'AND': ['C', 'D']},\n",
    "'B': {'OR': ['E', 'F']},\n",
    "'C': {'OR': ['G'], 'AND': ['H', 'I']},\n",
    "'D': {'OR': ['J']}\n",
    "}\n",
    "# weight\n",
    "weight = 1\n",
    "# Updated cost\n",
    "print('Updated Cost :')\n",
    "Updated_cost = update_cost(H, Conditions, weight=1)\n",
    "print('*'*75)\n",
    "print('Shortest Path :\\n',shortest_path('A', Updated_cost,H))"
   ]
  },
  {
   "cell_type": "code",
   "execution_count": null,
   "id": "9b7ec4aa-5245-4423-96a7-d006c51c24bd",
   "metadata": {},
   "outputs": [],
   "source": []
  }
 ],
 "metadata": {
  "kernelspec": {
   "display_name": "Python 3 (ipykernel)",
   "language": "python",
   "name": "python3"
  },
  "language_info": {
   "codemirror_mode": {
    "name": "ipython",
    "version": 3
   },
   "file_extension": ".py",
   "mimetype": "text/x-python",
   "name": "python",
   "nbconvert_exporter": "python",
   "pygments_lexer": "ipython3",
   "version": "3.10.12"
  }
 },
 "nbformat": 4,
 "nbformat_minor": 5
}
