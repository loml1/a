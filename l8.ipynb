{
 "cells": [
  {
   "cell_type": "code",
   "execution_count": 1,
   "id": "aec716a6-0804-4774-a88b-232524edafe5",
   "metadata": {},
   "outputs": [
    {
     "name": "stdout",
     "output_type": "stream",
     "text": [
      "Dataset is split into training and testing .. \n",
      "Size of training data and it's label (135, 4) (135,)\n",
      "Size of test data and it's label (15, 4) (15,)\n",
      "Labell 0 - setosa\n",
      "Labell 1 - versicolor\n",
      "Labell 2 - virginica\n",
      "Results of classification usin knn with k=1 \n",
      "Sample : [6.4 2.7 5.3 1.9] Actual - Label 2 Predicted - Label 2\n",
      "Sample : [7.7 3.8 6.7 2.2] Actual - Label 2 Predicted - Label 2\n",
      "Sample : [5.8 2.7 3.9 1.2] Actual - Label 1 Predicted - Label 1\n",
      "Sample : [6.3 2.3 4.4 1.3] Actual - Label 1 Predicted - Label 1\n",
      "Sample : [6.7 3.1 5.6 2.4] Actual - Label 2 Predicted - Label 2\n",
      "Sample : [7.6 3.  6.6 2.1] Actual - Label 2 Predicted - Label 2\n",
      "Sample : [6.  2.2 4.  1. ] Actual - Label 1 Predicted - Label 1\n",
      "Sample : [5.7 2.8 4.5 1.3] Actual - Label 1 Predicted - Label 1\n",
      "Sample : [6.7 3.3 5.7 2.1] Actual - Label 2 Predicted - Label 2\n",
      "Sample : [5.  2.3 3.3 1. ] Actual - Label 1 Predicted - Label 1\n",
      "Sample : [5.8 2.6 4.  1.2] Actual - Label 1 Predicted - Label 1\n",
      "Sample : [6.3 3.4 5.6 2.4] Actual - Label 2 Predicted - Label 2\n",
      "Sample : [5.  2.  3.5 1. ] Actual - Label 1 Predicted - Label 1\n",
      "Sample : [4.3 3.  1.1 0.1] Actual - Label 0 Predicted - Label 0\n",
      "Sample : [5.7 2.8 4.1 1.3] Actual - Label 1 Predicted - Label 1\n",
      "Classifictaion Accuracy : 1.0\n",
      "Accuracy Metrices :\n",
      "              precision    recall  f1-score   support\n",
      "\n",
      "           0       1.00      1.00      1.00         1\n",
      "           1       1.00      1.00      1.00         8\n",
      "           2       1.00      1.00      1.00         6\n",
      "\n",
      "    accuracy                           1.00        15\n",
      "   macro avg       1.00      1.00      1.00        15\n",
      "weighted avg       1.00      1.00      1.00        15\n",
      "\n",
      "Confusion Matrix:\n",
      "[[1 0 0]\n",
      " [0 8 0]\n",
      " [0 0 6]]\n"
     ]
    }
   ],
   "source": [
    "from sklearn.neighbors import KNeighborsClassifier \n",
    "from sklearn.datasets import load_iris\n",
    "from sklearn.model_selection import train_test_split \n",
    "from sklearn.metrics import classification_report,confusion_matrix \n",
    "iris = load_iris() \n",
    "x_train,x_test,y_train,y_test = train_test_split(iris.data,iris.target,test_size = 0.1) \n",
    "print(\"Dataset is split into training and testing .. \") \n",
    "print(\"Size of training data and it's label\",x_train.shape,y_train.shape) \n",
    "print(\"Size of test data and it's label\",x_test.shape,y_test.shape) \n",
    "for i in range(len(iris.target_names)): \n",
    "    print(\"Labell\", i, \"-\" ,str(iris.target_names[i])) \n",
    "classifier = KNeighborsClassifier(n_neighbors = 1) \n",
    "classifier.fit(x_train,y_train) \n",
    "y_pred = classifier.predict(x_test) \n",
    "print(\"Results of classification usin knn with k=1 \") \n",
    "for r in range(len(x_test)): \n",
    "    print(\"Sample :\" ,str(x_test[r]), \"Actual - Label\" ,str(y_test[r]), \"Predicted - Label\" ,str(y_pred[r]))\n",
    "print(\"Classifictaion Accuracy :\" ,classifier.score(x_test,y_test)) \n",
    "print(\"Accuracy Metrices :\") \n",
    "print(classification_report(y_test,y_pred)) \n",
    "print(\"Confusion Matrix:\") \n",
    "print(confusion_matrix(y_test,y_pred))"
   ]
  },
  {
   "cell_type": "code",
   "execution_count": null,
   "id": "262bb353-1bea-4e48-96ed-8f53309e9f42",
   "metadata": {},
   "outputs": [],
   "source": []
  }
 ],
 "metadata": {
  "kernelspec": {
   "display_name": "Python 3 (ipykernel)",
   "language": "python",
   "name": "python3"
  },
  "language_info": {
   "codemirror_mode": {
    "name": "ipython",
    "version": 3
   },
   "file_extension": ".py",
   "mimetype": "text/x-python",
   "name": "python",
   "nbconvert_exporter": "python",
   "pygments_lexer": "ipython3",
   "version": "3.12.0"
  }
 },
 "nbformat": 4,
 "nbformat_minor": 5
}
