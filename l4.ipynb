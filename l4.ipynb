import pandas as pd

df_tennis=pd.read_csv("playtennis.csv")

def entropy(probs):
    import math
    return sum([-prob*math.log(prob,2) for prob in probs])

def entropy_of_list(a_list):
    from collections import Counter
    cnt=Counter(x for x in a_list)
    num_instances=len(a_list)
    probs=[x/num_instances for x in cnt.values()]
    return entropy(probs)

print("Total entropy is : ",entropy_of_list(df_tennis['PlayTennis']))

def info_gain(df,split_attr_name,target_attr_name,trace=0):
    df_split=df.groupby(split_attr_name)
    for name,group in df_split:
        nobs=len(df.index)
    df_agg_cnt=df_split.agg=({target_attr_name:[entropy_of_list,lambda x:len(x)/nobs]})[target_attr_name]
    df_agg_cnt.columns=['Entropy','Propobservations']
    if trace:
        print(df_agg_cnt)
    new_entropy=sum(df_agg_cnt['Entropy']*df_agg_cnt['Propobservations'])
    old_entropy=entropy_of_list(df[target_attr_name])
    return old_entropy-new_entropy

print('Info-gain for Outlook is '+str(info_gain(df_tennis,'Outlook',PlayTennis)),"\n")
print("Info-gain for Temperature is "+str(info_gain(df_tennis,'Temperature',PlayTennis)))
print("Info-gain for Humidity is "+str(info_gain(df_tennis,'Humidity',PlayTennis)))
print("Info-gain for Wind is "+str(info_gain(df_tennis,'Wind',PlayTennis)))

def id3(df,target_attr_name,attribute_names,default_class=None):
    from collections import Counter
    cnt=Counter(x for x in df[target_attr_name])
    if cnt == 1:
        return next(iter(cnt))
    elif df.empty or (not attribute_names):
        return default_class
    else:
        default_class=max(cnt.keys())
    gainz=[info_gain(df,attr,target_attr_name) for attr in attribute_names]
    max_of_index=gainz.index(max(gainz))
    best_attr=attribute_names[max_of_index]
    tree={best_attr:{}}
    rem_attr=[i for i in attribute_names if i != best_attr]
    for attr_val,data_subset in df.groupby(best_attr):
        subset=id3(data_subset,target_attr_name,rem_attr,default_class)
        tree[best_attr][attr_val]=subset
    return tree

attribute_names=list(df_tennis.columns)
attribute_names.remove("Play Tennis")
from pprint import pprint
tree=id3(df_tennis,target_attr_names,attribute_names)
print("Resultant decision tree ")
pprint(tree)

def predict(query,tree,default=1):
    for key in list(query.keys()):
        if key in list(tree.keys()):
            try:
                result=tree[key][query[key]]
            except:
                return default
            result=tree[key][query[key]]
        if isinstance(result,dict):
            return predict(query,result)
        else:
            return default

query={'Outlook':'Sunny','Temperature':'Hot','Humidity':'High','Wind':'Weak'}
print("Can tennis be played on the given conditions "+predict(query,tree))
