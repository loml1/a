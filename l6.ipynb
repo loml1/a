{
 "cells": [
  {
   "cell_type": "code",
   "execution_count": 11,
   "id": "4673d35a-3986-4e08-a39b-eaf350aa4616",
   "metadata": {},
   "outputs": [
    {
     "name": "stdout",
     "output_type": "stream",
     "text": [
      "Accuracy Metrices :\n",
      "               precision    recall  f1-score   support\n",
      "\n",
      "           0       1.00      1.00      1.00        11\n",
      "           1       1.00      0.92      0.96        13\n",
      "           2       0.86      1.00      0.92         6\n",
      "\n",
      "    accuracy                           0.97        30\n",
      "   macro avg       0.95      0.97      0.96        30\n",
      "weighted avg       0.97      0.97      0.97        30\n",
      "\n",
      "The Acccuracy of Metrices is : 0.9666666666666667\n",
      "Confusion Matrix: \n",
      "[[11  0  0]\n",
      " [ 0 12  1]\n",
      " [ 0  0  6]]\n"
     ]
    }
   ],
   "source": [
    "from sklearn.naive_bayes import GaussianNB\n",
    "from sklearn.datasets import load_iris\n",
    "from sklearn import metrics\n",
    "from sklearn.model_selection import train_test_split as split\n",
    "dataset= load_iris()\n",
    "x = dataset.data\n",
    "y = dataset.target\n",
    "x_train ,x_test,y_train,y_test = split(x,y,test_size = 0.2, random_state = 1)\n",
    "gnb = GaussianNB()\n",
    "classifier= gnb.fit(x_train ,y_train)\n",
    "y_pred = classifier.predict(x_test)\n",
    "print(\"Accuracy Metrices :\\n\" ,metrics.classification_report(y_test, y_pred))\n",
    "print(\"The Acccuracy of Metrices is :\",metrics.accuracy_score(y_test,y_pred))\n",
    "print(\"Confusion Matrix: \")\n",
    "print(metrics.confusion_matrix(y_test,y_pred))"
   ]
  },
  {
   "cell_type": "code",
   "execution_count": null,
   "id": "ce8168e9-184c-498b-b0a2-98777586bef0",
   "metadata": {},
   "outputs": [],
   "source": []
  }
 ],
 "metadata": {
  "kernelspec": {
   "display_name": "Python 3 (ipykernel)",
   "language": "python",
   "name": "python3"
  },
  "language_info": {
   "codemirror_mode": {
    "name": "ipython",
    "version": 3
   },
   "file_extension": ".py",
   "mimetype": "text/x-python",
   "name": "python",
   "nbconvert_exporter": "python",
   "pygments_lexer": "ipython3",
   "version": "3.12.0"
  }
 },
 "nbformat": 4,
 "nbformat_minor": 5
}
